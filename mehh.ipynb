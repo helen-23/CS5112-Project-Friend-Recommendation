{
 "cells": [
  {
   "cell_type": "code",
   "execution_count": 12,
   "metadata": {},
   "outputs": [],
   "source": [
    "import pandas as pd\n",
    "import numpy as np\n",
    "from collections import Counter\n",
    "from copy import copy\n",
    "from numpy import genfromtxt\n",
    "from scipy import spatial\n",
    "from numpy import dot\n",
    "from numpy.linalg import norm"
   ]
  },
  {
   "cell_type": "code",
   "execution_count": 29,
   "metadata": {},
   "outputs": [],
   "source": [
    "df = pd.read_csv(\"Superpowers.csv\")\n",
    "netid = list(df[\"Cornell Tech Email (Required)\"].apply(lambda x: x.split(\"@\")[0]))\n",
    "name  = list(df[\"Slack (Full Name) (Required)\"])\n",
    "name_2_netid = {n:id for n, id in zip(name, netid)}\n",
    "netid_2_name = {id:n for n, id in zip(name, netid)}\n",
    "index_2_name = {i:n for i, n in enumerate(name)}\n",
    "name_2_index = {n:i for i, n in enumerate(name)}"
   ]
  },
  {
   "cell_type": "code",
   "execution_count": 14,
   "metadata": {},
   "outputs": [
    {
     "data": {
      "text/plain": [
       "(350, 621)"
      ]
     },
     "execution_count": 14,
     "metadata": {},
     "output_type": "execute_result"
    }
   ],
   "source": [
    "# read data\n",
    "categorical_data = genfromtxt('./cleaned_data/categorical_data.csv', delimiter=',')[1:]\n",
    "bow_data = genfromtxt('./cleaned_data/bow_data.csv', delimiter=',')\n",
    "\n",
    "data = np.concatenate((categorical_data, bow_data), axis=1)\n",
    "data.shape"
   ]
  },
  {
   "cell_type": "code",
   "execution_count": 15,
   "metadata": {},
   "outputs": [
    {
     "data": {
      "text/plain": [
       "0.3326495719295578"
      ]
     },
     "execution_count": 15,
     "metadata": {},
     "output_type": "execute_result"
    }
   ],
   "source": [
    "# cosine similarity\n",
    "cos_sim = lambda a, b: dot(a, b)/(norm(a)*norm(b))\n",
    "cos_sim(data[100], data[200])"
   ]
  },
  {
   "cell_type": "code",
   "execution_count": 16,
   "metadata": {},
   "outputs": [
    {
     "data": {
      "text/plain": [
       "0.1978021978021978"
      ]
     },
     "execution_count": 16,
     "metadata": {},
     "output_type": "execute_result"
    }
   ],
   "source": [
    "# jaccard similarity\n",
    "def jaccard_sim(x, y):\n",
    "\tintersection = np.logical_and(x, y)\n",
    "\tunion = np.logical_or(x, y)\n",
    "\tsimilarity = intersection.sum() / float(union.sum())\n",
    "\treturn similarity\n",
    "\n",
    "jaccard_sim(data[100], data[200])"
   ]
  },
  {
   "cell_type": "code",
   "execution_count": 54,
   "metadata": {},
   "outputs": [],
   "source": [
    "def mehh(data, sim, n, name):\n",
    "\tret = []\n",
    "\tfor i,u1 in enumerate(data):\n",
    "\t\tu1_friends = { j:sim(u1,u2) if i!=j else 0 for j, u2 in enumerate(data) }\n",
    "\n",
    "\t\t# list friends based on the sim values\n",
    "\t\tu1_bff = [ (k,v) for k, v in sorted(u1_friends.items(), key=lambda item: item[1], reverse=True) ][:n]\n",
    "\t\tret.append(u1_bff)\n",
    "\t\n",
    "\tfor idx, score in ret[name_2_index[name]]:\n",
    "\t\tprint(\"Name: {}, {}\".format(index_2_name[idx], score))\n",
    "\treturn idx\n"
   ]
  },
  {
   "cell_type": "code",
   "execution_count": 55,
   "metadata": {},
   "outputs": [
    {
     "name": "stdout",
     "output_type": "stream",
     "text": [
      "Name: Evan Lin, 0.2868217054263566\n",
      "Name: Zhengxing Xue, 0.2807017543859649\n",
      "Name: Richa Vishwakarma, 0.2672413793103448\n",
      "Name: Jarrett Coleman, CS, 0.2578125\n",
      "Name: Rajesh Mudidana, 0.2537313432835821\n",
      "Name: Joan La Rosa, CS, 0.24812030075187969\n",
      "Name: Yang Song, 0.24489795918367346\n",
      "Name: Jinxu Liu, CM, 0.24369747899159663\n",
      "Name: Ridhima Sakhuja, 0.24285714285714285\n",
      "Name: Crystal Tang, CS, 0.23275862068965517\n",
      "Name: Oliver Zhang, 0.23076923076923078\n",
      "Name: Grant Ellis, 0.22807017543859648\n",
      "Name: Richard Pan, 0.22807017543859648\n",
      "Name: Aman Panda, 0.22794117647058823\n",
      "Name: Sal Galarza, ORIE, 0.22695035460992907\n"
     ]
    },
    {
     "data": {
      "text/plain": [
       "75"
      ]
     },
     "execution_count": 55,
     "metadata": {},
     "output_type": "execute_result"
    }
   ],
   "source": [
    "mehh(data=data, sim=jaccard_sim, n=15, name=\"Ethan Huang, CS\")"
   ]
  },
  {
   "cell_type": "code",
   "execution_count": null,
   "metadata": {},
   "outputs": [],
   "source": []
  }
 ],
 "metadata": {
  "interpreter": {
   "hash": "df26f260de81fa80b915baffd445adaac7578cb76e8da81fe52e733cde4f3643"
  },
  "kernelspec": {
   "display_name": "Python 3.8.5 64-bit ('base': conda)",
   "language": "python",
   "name": "python3"
  },
  "language_info": {
   "codemirror_mode": {
    "name": "ipython",
    "version": 3
   },
   "file_extension": ".py",
   "mimetype": "text/x-python",
   "name": "python",
   "nbconvert_exporter": "python",
   "pygments_lexer": "ipython3",
   "version": "3.8.5"
  },
  "orig_nbformat": 4
 },
 "nbformat": 4,
 "nbformat_minor": 2
}
