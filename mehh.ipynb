{
 "cells": [
  {
   "cell_type": "code",
   "execution_count": 3,
   "metadata": {},
   "outputs": [],
   "source": [
    "import pandas as pd\n",
    "import numpy as np\n",
    "from collections import Counter\n",
    "from copy import copy\n",
    "from numpy import genfromtxt\n",
    "from scipy import spatial\n",
    "from numpy import dot\n",
    "from numpy.linalg import norm"
   ]
  },
  {
   "cell_type": "code",
   "execution_count": 4,
   "metadata": {},
   "outputs": [],
   "source": [
    "df = pd.read_csv(\"Superpowers.csv\")\n",
    "netid = list(df[\"Cornell Tech Email (Required)\"].apply(lambda x: x.split(\"@\")[0]))\n",
    "name  = list(df[\"Slack (Full Name) (Required)\"])\n",
    "name_2_netid = {n:id for n, id in zip(name, netid)}\n",
    "netid_2_name = {id:n for n, id in zip(name, netid)}\n",
    "index_2_name = {i:n for i, n in enumerate(name)}\n",
    "name_2_index = {n:i for i, n in enumerate(name)}"
   ]
  },
  {
   "cell_type": "code",
   "execution_count": 5,
   "metadata": {},
   "outputs": [
    {
     "data": {
      "text/plain": [
       "(350, 621)"
      ]
     },
     "execution_count": 5,
     "metadata": {},
     "output_type": "execute_result"
    }
   ],
   "source": [
    "# read data\n",
    "categorical_data = genfromtxt('./cleaned_data/categorical_data.csv', delimiter=',')[1:]\n",
    "bow_data = genfromtxt('./cleaned_data/bow_data.csv', delimiter=',')\n",
    "\n",
    "data = np.concatenate((categorical_data, bow_data), axis=1)\n",
    "data.shape"
   ]
  },
  {
   "cell_type": "code",
   "execution_count": 6,
   "metadata": {},
   "outputs": [
    {
     "data": {
      "text/plain": [
       "0.3326495719295578"
      ]
     },
     "execution_count": 6,
     "metadata": {},
     "output_type": "execute_result"
    }
   ],
   "source": [
    "# cosine similarity\n",
    "cos_sim = lambda a, b: dot(a, b)/(norm(a)*norm(b))\n",
    "cos_sim(data[100], data[200])"
   ]
  },
  {
   "cell_type": "code",
   "execution_count": 7,
   "metadata": {},
   "outputs": [
    {
     "data": {
      "text/plain": [
       "0.1978021978021978"
      ]
     },
     "execution_count": 7,
     "metadata": {},
     "output_type": "execute_result"
    }
   ],
   "source": [
    "# jaccard similarity\n",
    "def jaccard_sim(x, y):\n",
    "\tintersection = np.logical_and(x, y)\n",
    "\tunion = np.logical_or(x, y)\n",
    "\tsimilarity = intersection.sum() / float(union.sum())\n",
    "\treturn similarity\n",
    "\n",
    "jaccard_sim(data[100], data[200])"
   ]
  },
  {
   "cell_type": "code",
   "execution_count": 24,
   "metadata": {},
   "outputs": [],
   "source": [
    "def mehh(data, sim, n, name):\n",
    "\tret = []\n",
    "\tfor i,u1 in enumerate(data):\n",
    "\t\tu1_friends = { j:sim(u1,u2) if i!=j else 0 for j, u2 in enumerate(data) }\n",
    "\n",
    "\t\t# list friends based on the sim values\n",
    "\t\tu1_bff = [ (k,v) for k, v in sorted(u1_friends.items(), key=lambda item: item[1], reverse=True) ][:n]\n",
    "\t\tret.append(u1_bff)\n",
    "\t\n",
    "\tdata = []\n",
    "\tfor idx, score in ret[name_2_index[name]]:\n",
    "\t\tname = index_2_name[idx]\n",
    "\t\tdata.append([name, score])\n",
    "\t\n",
    "\treturn pd.DataFrame(data, columns=[\"Name\", \"Score\"])\n",
    "\n"
   ]
  },
  {
   "cell_type": "code",
   "execution_count": 26,
   "metadata": {},
   "outputs": [
    {
     "data": {
      "text/html": [
       "<div>\n",
       "<style scoped>\n",
       "    .dataframe tbody tr th:only-of-type {\n",
       "        vertical-align: middle;\n",
       "    }\n",
       "\n",
       "    .dataframe tbody tr th {\n",
       "        vertical-align: top;\n",
       "    }\n",
       "\n",
       "    .dataframe thead th {\n",
       "        text-align: right;\n",
       "    }\n",
       "</style>\n",
       "<table border=\"1\" class=\"dataframe\">\n",
       "  <thead>\n",
       "    <tr style=\"text-align: right;\">\n",
       "      <th></th>\n",
       "      <th>Name</th>\n",
       "      <th>Score</th>\n",
       "    </tr>\n",
       "  </thead>\n",
       "  <tbody>\n",
       "    <tr>\n",
       "      <th>0</th>\n",
       "      <td>Evan Lin</td>\n",
       "      <td>0.446594</td>\n",
       "    </tr>\n",
       "    <tr>\n",
       "      <th>1</th>\n",
       "      <td>Zhengxing Xue</td>\n",
       "      <td>0.439388</td>\n",
       "    </tr>\n",
       "    <tr>\n",
       "      <th>2</th>\n",
       "      <td>Richa Vishwakarma</td>\n",
       "      <td>0.422561</td>\n",
       "    </tr>\n",
       "    <tr>\n",
       "      <th>3</th>\n",
       "      <td>Jarrett Coleman, CS</td>\n",
       "      <td>0.410136</td>\n",
       "    </tr>\n",
       "    <tr>\n",
       "      <th>4</th>\n",
       "      <td>Rajesh Mudidana</td>\n",
       "      <td>0.405798</td>\n",
       "    </tr>\n",
       "    <tr>\n",
       "      <th>5</th>\n",
       "      <td>Joan La Rosa, CS</td>\n",
       "      <td>0.398314</td>\n",
       "    </tr>\n",
       "    <tr>\n",
       "      <th>6</th>\n",
       "      <td>Yang Song</td>\n",
       "      <td>0.397796</td>\n",
       "    </tr>\n",
       "    <tr>\n",
       "      <th>7</th>\n",
       "      <td>Ridhima Sakhuja</td>\n",
       "      <td>0.392913</td>\n",
       "    </tr>\n",
       "    <tr>\n",
       "      <th>8</th>\n",
       "      <td>Jinxu Liu, CM</td>\n",
       "      <td>0.392466</td>\n",
       "    </tr>\n",
       "    <tr>\n",
       "      <th>9</th>\n",
       "      <td>Crystal Tang, CS</td>\n",
       "      <td>0.379193</td>\n",
       "    </tr>\n",
       "    <tr>\n",
       "      <th>10</th>\n",
       "      <td>Oliver Zhang</td>\n",
       "      <td>0.375117</td>\n",
       "    </tr>\n",
       "    <tr>\n",
       "      <th>11</th>\n",
       "      <td>Grant Ellis</td>\n",
       "      <td>0.373878</td>\n",
       "    </tr>\n",
       "    <tr>\n",
       "      <th>12</th>\n",
       "      <td>Richard Pan</td>\n",
       "      <td>0.373878</td>\n",
       "    </tr>\n",
       "    <tr>\n",
       "      <th>13</th>\n",
       "      <td>Aman Panda</td>\n",
       "      <td>0.372065</td>\n",
       "    </tr>\n",
       "    <tr>\n",
       "      <th>14</th>\n",
       "      <td>Sal Galarza, ORIE</td>\n",
       "      <td>0.371741</td>\n",
       "    </tr>\n",
       "  </tbody>\n",
       "</table>\n",
       "</div>"
      ],
      "text/plain": [
       "                   Name     Score\n",
       "0              Evan Lin  0.446594\n",
       "1         Zhengxing Xue  0.439388\n",
       "2     Richa Vishwakarma  0.422561\n",
       "3   Jarrett Coleman, CS  0.410136\n",
       "4       Rajesh Mudidana  0.405798\n",
       "5      Joan La Rosa, CS  0.398314\n",
       "6             Yang Song  0.397796\n",
       "7       Ridhima Sakhuja  0.392913\n",
       "8         Jinxu Liu, CM  0.392466\n",
       "9      Crystal Tang, CS  0.379193\n",
       "10         Oliver Zhang  0.375117\n",
       "11          Grant Ellis  0.373878\n",
       "12          Richard Pan  0.373878\n",
       "13           Aman Panda  0.372065\n",
       "14    Sal Galarza, ORIE  0.371741"
      ]
     },
     "execution_count": 26,
     "metadata": {},
     "output_type": "execute_result"
    }
   ],
   "source": [
    "mehh(data=data, sim=cos_sim, n=15, name=\"Ethan Huang, CS\")"
   ]
  },
  {
   "cell_type": "code",
   "execution_count": null,
   "metadata": {},
   "outputs": [],
   "source": []
  },
  {
   "cell_type": "code",
   "execution_count": null,
   "metadata": {},
   "outputs": [],
   "source": []
  }
 ],
 "metadata": {
  "interpreter": {
   "hash": "df26f260de81fa80b915baffd445adaac7578cb76e8da81fe52e733cde4f3643"
  },
  "kernelspec": {
   "display_name": "Python 3.8.5 64-bit ('base': conda)",
   "language": "python",
   "name": "python3"
  },
  "language_info": {
   "codemirror_mode": {
    "name": "ipython",
    "version": 3
   },
   "file_extension": ".py",
   "mimetype": "text/x-python",
   "name": "python",
   "nbconvert_exporter": "python",
   "pygments_lexer": "ipython3",
   "version": "3.8.5"
  },
  "orig_nbformat": 4
 },
 "nbformat": 4,
 "nbformat_minor": 2
}
