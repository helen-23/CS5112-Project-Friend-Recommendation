{
 "cells": [
  {
   "cell_type": "code",
   "execution_count": 903,
   "id": "fdcd55dc",
   "metadata": {},
   "outputs": [],
   "source": [
    "import pandas as pd\n",
    "from nltk.stem import PorterStemmer\n",
    "from nltk.tokenize import word_tokenize\n",
    "\n",
    "import nltk\n",
    "from nltk.corpus import stopwords\n",
    "\n",
    "import string\n",
    "from collections import defaultdict\n",
    "\n",
    "df = pd.read_csv(\"Superpowers.csv\")\n",
    "# df.head()"
   ]
  },
  {
   "cell_type": "code",
   "execution_count": 904,
   "metadata": {},
   "outputs": [],
   "source": [
    "# remove unwanted fields\n",
    "df = df.drop(['Preferred First Name (Required)',\n",
    "'Last Name / Family Name (Required)',\n",
    "'Cornell Tech Email (Required)',\n",
    "'Slack (Full Name) (Required)',\n",
    "'Where are you in the Spring Studio teaming process?',\n",
    "'What have you teamed around? '], axis=1)"
   ]
  },
  {
   "cell_type": "code",
   "execution_count": 905,
   "metadata": {},
   "outputs": [],
   "source": [
    "df = df.rename(columns={\n",
    "\t\t\t\t\t\t\"Cornell Tech Degree Program (Required)\": \"degree\",\n",
    "\t\t\t\t\t\t\"Professional Bio\": \"bio\",\n",
    "\t\t\t\t\t\t\"Core Teaming Objectives\": \"core_obj\",\n",
    "\t\t\t\t\t\t\"Skillsets\": \"skill\",\n",
    "\t\t\t\t\t\t\"Seeking Skillsets\": \"seeking_skill\",\n",
    "\t\t\t\t\t\t\"Most compelling problems, industries, etc\": \"industry\",\n",
    "\t\t\t\t\t\t\"Hobbies, Interests, etc\": \"hobby\",\n",
    "\t\t\t\t\t\t\"Technical Talent (Yes/No)\": \"tech_talent\",\n",
    "\t\t\t\t\t\t\"Hardware Solution\": \"hardware\",\n",
    "\t\t\t\t\t\t\"Spinning Out\": \"spin_out\",\n",
    "\t\t\t\t\t\t\"Spring Studio Preference\": \"spring_studio\",\n",
    "\t\t\t\t\t\t})"
   ]
  },
  {
   "cell_type": "code",
   "execution_count": 906,
   "metadata": {},
   "outputs": [],
   "source": [
    "# df.head()"
   ]
  },
  {
   "cell_type": "code",
   "execution_count": 907,
   "metadata": {},
   "outputs": [],
   "source": [
    "# process Degree\n",
    "# for i in df.degree.unique():\n",
    "# \tprint(i)\n",
    "\n",
    "df[\"degree\"] = df[\"degree\"].apply(lambda x: x.split()[0][:-1])\n",
    "\n",
    "degree_dict = {str(deg):i for i, deg in enumerate(df.degree.unique())}\n",
    "\n",
    "# 'CM': 0\n",
    "# 'ORIE': 1\n",
    "# 'DESIGN': 2\n",
    "# 'MBA': 3\n",
    "# 'AAP': 4\n",
    "# 'CS': 5\n",
    "# 'LLM': 6\n",
    "# 'HT': 7\n",
    "# 'UT': 8\n",
    "# 'ECE': 9\n",
    "\n",
    "# convert to onehot\n",
    "df[\"degree_0\"] = df[\"degree\"].apply(lambda x: int(degree_dict[x]==0))\n",
    "df[\"degree_1\"] = df[\"degree\"].apply(lambda x: int(degree_dict[x]==1))\n",
    "df[\"degree_2\"] = df[\"degree\"].apply(lambda x: int(degree_dict[x]==2))\n",
    "df[\"degree_3\"] = df[\"degree\"].apply(lambda x: int(degree_dict[x]==3))\n",
    "df[\"degree_4\"] = df[\"degree\"].apply(lambda x: int(degree_dict[x]==4))\n",
    "df[\"degree_5\"] = df[\"degree\"].apply(lambda x: int(degree_dict[x]==5))\n",
    "df[\"degree_6\"] = df[\"degree\"].apply(lambda x: int(degree_dict[x]==6))\n",
    "df[\"degree_7\"] = df[\"degree\"].apply(lambda x: int(degree_dict[x]==7))\n",
    "df[\"degree_8\"] = df[\"degree\"].apply(lambda x: int(degree_dict[x]==8))\n",
    "df[\"degree_9\"] = df[\"degree\"].apply(lambda x: int(degree_dict[x]==9))\n",
    "\n",
    "df = df.drop([\"degree\"], axis=1)"
   ]
  },
  {
   "cell_type": "code",
   "execution_count": 908,
   "id": "e1cc385a",
   "metadata": {},
   "outputs": [
    {
     "data": {
      "text/plain": [
       "['work',\n",
       " 'cornel',\n",
       " 'tech',\n",
       " 'ha',\n",
       " 'engin',\n",
       " 'data',\n",
       " 'scienc',\n",
       " 'experi',\n",
       " 'develop',\n",
       " 'year',\n",
       " 'univers',\n",
       " 'hi',\n",
       " 'graduat',\n",
       " 'student',\n",
       " 'design',\n",
       " 'comput',\n",
       " 'prior',\n",
       " 'softwar',\n",
       " 'product',\n",
       " 'also',\n",
       " 'project',\n",
       " 'wa',\n",
       " 'manag',\n",
       " 'research',\n",
       " 'learn',\n",
       " 'startup',\n",
       " 'bachelor',\n",
       " 'intern',\n",
       " 'degre',\n",
       " 'technolog',\n",
       " 'join',\n",
       " 'busi',\n",
       " 'current',\n",
       " 'team',\n",
       " 'compani',\n",
       " 'dure',\n",
       " 'industri',\n",
       " 'studi',\n",
       " 'program',\n",
       " 'machin',\n",
       " 'build',\n",
       " 'use',\n",
       " 'cs',\n",
       " 'system',\n",
       " 'focus',\n",
       " 'includ',\n",
       " 'help',\n",
       " 'passion',\n",
       " 'interest',\n",
       " 'undergradu',\n",
       " 'master',\n",
       " 'creat',\n",
       " 'undergrad',\n",
       " 'health',\n",
       " 'major',\n",
       " 'time',\n",
       " 'thi',\n",
       " 'befor',\n",
       " 'commun',\n",
       " 'market',\n",
       " 'school',\n",
       " 'mba',\n",
       " 'econom',\n",
       " 'web',\n",
       " 'consult',\n",
       " 'internship',\n",
       " 'oper',\n",
       " 'colleg',\n",
       " 'pursu',\n",
       " 'analyst',\n",
       " 'model',\n",
       " 'new',\n",
       " 'digit',\n",
       " 'applic',\n",
       " 'mathemat',\n",
       " 'minor',\n",
       " 'well',\n",
       " 'law',\n",
       " 'skill',\n",
       " 'variou',\n",
       " 'two',\n",
       " 'analysi',\n",
       " 'bs',\n",
       " 'strategi',\n",
       " 'background',\n",
       " 'appli',\n",
       " 'summer',\n",
       " 'inform',\n",
       " 'process',\n",
       " 'healthcar',\n",
       " 'financi',\n",
       " 'analyt',\n",
       " 'technic',\n",
       " 'ori',\n",
       " 'solut',\n",
       " 'complet',\n",
       " 'recent',\n",
       " 'code',\n",
       " 'servic',\n",
       " 'lead']"
      ]
     },
     "execution_count": 908,
     "metadata": {},
     "output_type": "execute_result"
    }
   ],
   "source": [
    "# process bio\n",
    "def sentence_cleaner(sentence):\n",
    "\tps = PorterStemmer()\n",
    "\n",
    "\t# to lowercase, remove punctuation and number, only keep alphabet\n",
    "\tsentence = sentence.lower()\n",
    "\tsentence = sentence.translate(str.maketrans('', '', string.punctuation))\n",
    "\tsentence = [c for c in sentence if c in string.ascii_lowercase+\" \"]\n",
    "\tsentence = [c for c in sentence if c not in \"1234567890\"]\n",
    "\tsentence = \"\".join(sentence)\n",
    "\n",
    "\t# stem\n",
    "\twords = [ps.stem(w) for w in sentence.lower().split()]\n",
    "\n",
    "\t# remove stopwords\n",
    "\twords = [w for w in words if w not in stopwords.words('english')]\n",
    "\n",
    "\treturn words\n",
    "\n",
    "# apply cleaning \n",
    "df[\"bio_clean\"] = df[\"bio\"].apply(sentence_cleaner)\n",
    "df = df.drop([\"bio\"], axis=1)\n",
    "\n",
    "def get_top_words(n, col):\n",
    "\t# n: number of most frequent words\n",
    "\t# col: the target column \n",
    "\tword_count = defaultdict(int)\n",
    "\tfor bio in col:\n",
    "\t\tfor word in bio:\n",
    "\t\t\tword_count[word] += 1\n",
    "\n",
    "\t# only take top n common words\n",
    "\tword_count = sorted(word_count.items(), key=lambda item: item[1], reverse=True)[:n]\n",
    "\ttop_words  = [i for (i, _) in word_count]\n",
    "\treturn top_words\n",
    "\n",
    "get_top_words(100, df[\"bio_clean\"])"
   ]
  },
  {
   "cell_type": "code",
   "execution_count": 909,
   "id": "bcd695d8",
   "metadata": {},
   "outputs": [],
   "source": [
    "# process core_obj"
   ]
  },
  {
   "cell_type": "code",
   "execution_count": 910,
   "id": "62890775",
   "metadata": {},
   "outputs": [],
   "source": [
    "# process skill"
   ]
  },
  {
   "cell_type": "code",
   "execution_count": 911,
   "id": "66491b8f",
   "metadata": {},
   "outputs": [],
   "source": [
    "# process seeking_skill"
   ]
  },
  {
   "cell_type": "code",
   "execution_count": 912,
   "id": "e2e3f5d1",
   "metadata": {},
   "outputs": [],
   "source": [
    "# process seeking_skill"
   ]
  },
  {
   "cell_type": "code",
   "execution_count": 913,
   "id": "4a44679e",
   "metadata": {},
   "outputs": [],
   "source": [
    "# process seeking_skill"
   ]
  },
  {
   "cell_type": "code",
   "execution_count": 914,
   "id": "6d8fc05b",
   "metadata": {},
   "outputs": [],
   "source": [
    "# process industry"
   ]
  },
  {
   "cell_type": "code",
   "execution_count": 915,
   "id": "600aba9f",
   "metadata": {},
   "outputs": [],
   "source": [
    "# process hobby"
   ]
  },
  {
   "cell_type": "code",
   "execution_count": 916,
   "id": "06aa449a",
   "metadata": {},
   "outputs": [],
   "source": [
    "# process tech_talent\n",
    "\n",
    "df[\"tech_talent\"] = df[\"tech_talent\"].apply(lambda x: 1 if x==\"Yes\" else 0)"
   ]
  },
  {
   "cell_type": "code",
   "execution_count": 917,
   "id": "d8f5c2e4",
   "metadata": {},
   "outputs": [],
   "source": [
    "# process hardware\n",
    "\n",
    "# 0: not interested\n",
    "# 1: i'd seriously consider it\n",
    "# 2: very interested\n",
    "\n",
    "df[\"hardware\"] = df[\"hardware\"].apply(lambda x: 0 if \"not\" in x.lower() else 1 if \"consider\" in x.lower() else 2)\n",
    "\n",
    "# convert to onehot\n",
    "df[\"hardware_0\"] = df[\"hardware\"].apply(lambda x: int(x==0))\n",
    "df[\"hardware_1\"] = df[\"hardware\"].apply(lambda x: int(x==1))\n",
    "df[\"hardware_2\"] = df[\"hardware\"].apply(lambda x: int(x==2))\n",
    "df = df.drop([\"hardware\"], axis=1)"
   ]
  },
  {
   "cell_type": "code",
   "execution_count": null,
   "id": "419d5781",
   "metadata": {},
   "outputs": [],
   "source": []
  }
 ],
 "metadata": {
  "interpreter": {
   "hash": "df26f260de81fa80b915baffd445adaac7578cb76e8da81fe52e733cde4f3643"
  },
  "kernelspec": {
   "display_name": "Python 3.8.5 64-bit ('base': conda)",
   "name": "python3"
  },
  "language_info": {
   "codemirror_mode": {
    "name": "ipython",
    "version": 3
   },
   "file_extension": ".py",
   "mimetype": "text/x-python",
   "name": "python",
   "nbconvert_exporter": "python",
   "pygments_lexer": "ipython3",
   "version": "3.8.5"
  }
 },
 "nbformat": 4,
 "nbformat_minor": 5
}
