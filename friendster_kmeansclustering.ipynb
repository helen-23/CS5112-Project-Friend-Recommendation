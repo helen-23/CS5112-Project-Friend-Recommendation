{
  "nbformat": 4,
  "nbformat_minor": 0,
  "metadata": {
    "colab": {
      "name": "friendster_kmeansclustering.ipynb",
      "provenance": [],
      "collapsed_sections": []
    },
    "kernelspec": {
      "name": "python3",
      "display_name": "Python 3"
    },
    "language_info": {
      "name": "python"
    }
  },
  "cells": [
    {
      "cell_type": "code",
      "metadata": {
        "id": "n3MhOVD7mx09"
      },
      "source": [
        "#importing necessary libraries\n",
        "import numpy as np\n",
        "import pandas as pd\n",
        "from sklearn.cluster import KMeans\n",
        "from sklearn import metrics\n",
        "from sklearn.metrics.pairwise import cosine_similarity\n",
        "from sklearn.metrics import mean_squared_error\n",
        "from sklearn.model_selection import train_test_split\n",
        "from sklearn.feature_extraction.text import TfidfVectorizer\n",
        "from sklearn.metrics.pairwise import linear_kernel\n",
        "#putting movies data on 'movies' dataframe\n",
        "data = pd.read_csv('Superpowers.csv')"
      ],
      "execution_count": null,
      "outputs": []
    },
    {
      "cell_type": "code",
      "metadata": {
        "id": "8bRAawJQnjZn",
        "colab": {
          "base_uri": "https://localhost:8080/",
          "height": 122
        },
        "outputId": "e2f3718b-864b-4d9e-9072-63ac5e9f5428"
      },
      "source": [
        "data['Professional Bio'][0]"
      ],
      "execution_count": null,
      "outputs": [
        {
          "output_type": "execute_result",
          "data": {
            "application/vnd.google.colaboratory.intrinsic+json": {
              "type": "string"
            },
            "text/plain": [
              "'👋Prior to attending Cornell Tech, Anton worked as a technical lead at a software startup in Oslo, building the company from 2 to 70 employees while completing his undergrad in CS at the University of Oslo. His primary expertise is building web applications using JavaScript, and he was a keynote speaker at JSConf 2019. During his time at Cornell Tech he has focused on expanding my skills into NLP and machine learning. He recently published a paper with the Social Technologies Lab where he collects and analyzes data related to polarization and political misinformation in social media. Currently working as an AI research intern at Dataminr, where he develops time series event detection models.'"
            ]
          },
          "metadata": {},
          "execution_count": 3
        }
      ]
    },
    {
      "cell_type": "markdown",
      "source": [
        "##Cluster for multiple columns"
      ],
      "metadata": {
        "id": "9Xn1F256LMTh"
      }
    },
    {
      "cell_type": "code",
      "metadata": {
        "id": "Abvebmr1qvM5"
      },
      "source": [
        "# combine coloumns\n",
        "data['concat'] = data['Professional Bio'] + data['Core Teaming Objectives'] + data['Skillsets'] + data['Hobbies, Interests, etc']\n",
        "# Pre-processing step: remove words like we'll, you'll, they'll etc.\n",
        "data['concat'] = data['concat'].replace({\"'ll\": \" \"}, regex=True)\n",
        "# Another Pre-preprocessing step: Removal of '-'\n",
        "data['concat'] = data['concat'].replace({\"-\": \" \"}, regex=True)\n",
        "# Remove all characters except numbers & alphabets\n",
        "data['concat'] = data['concat'].replace({\"[^A-Za-z0-9 ]+\": \"\"}, regex=True)\n",
        "# Another pre-processing\n",
        "data['concat'] = data['concat'].fillna('')"
      ],
      "execution_count": null,
      "outputs": []
    },
    {
      "cell_type": "code",
      "metadata": {
        "colab": {
          "base_uri": "https://localhost:8080/"
        },
        "id": "Z27KKeM5oIpw",
        "outputId": "65b71308-f04c-4c5a-e83c-0333f624e76c"
      },
      "source": [
        "tfidf1 = TfidfVectorizer(stop_words='english')\n",
        "#Construct the required TF-IDF matrix by applying the fit_transform method on the overview feature\n",
        "matrix1 = tfidf1.fit_transform(data['concat'])\n",
        "#Output the shape of tfidf_matrix\n",
        "matrix1.shape\n",
        "#Output\n",
        "(45466, 75827)"
      ],
      "execution_count": null,
      "outputs": [
        {
          "output_type": "execute_result",
          "data": {
            "text/plain": [
              "(45466, 75827)"
            ]
          },
          "metadata": {},
          "execution_count": 5
        }
      ]
    },
    {
      "cell_type": "code",
      "metadata": {
        "colab": {
          "base_uri": "https://localhost:8080/",
          "height": 296
        },
        "id": "yJ9krVyu0bUf",
        "outputId": "c9328e19-0192-4bd7-8d3f-5edf73333acb"
      },
      "source": [
        "import matplotlib.pyplot as plt\n",
        "# Continuing after vectorization step\n",
        "# data-structure to store Sum-Of-Square-Errors\n",
        "sse = {}\n",
        "# Looping over multiple values of k from 1 to 30\n",
        "for k in range(1, 30):\n",
        "    kmeans = KMeans(n_clusters=k, init='k-means++', max_iter=100).fit(matrix1)\n",
        "    data[\"clusters1\"] = kmeans.labels_\n",
        "    sse[k] = kmeans.inertia_\n",
        "# Plotting the curve with 'k'-value vs SSE\n",
        "plt.plot(list(sse.keys()), list(sse.values()))\n",
        "plt.xlabel(\"Number of cluster\")\n",
        "plt.ylabel(\"SSE\")"
      ],
      "execution_count": null,
      "outputs": [
        {
          "output_type": "execute_result",
          "data": {
            "text/plain": [
              "Text(0, 0.5, 'SSE')"
            ]
          },
          "metadata": {},
          "execution_count": 6
        },
        {
          "output_type": "display_data",
          "data": {
            "image/png": "[encoded data removed]",
            "text/plain": [
              "<Figure size 432x288 with 1 Axes>"
            ]
          },
          "metadata": {
            "needs_background": "light"
          }
        }
      ]
    },
    {
      "cell_type": "code",
      "metadata": {
        "colab": {
          "base_uri": "https://localhost:8080/"
        },
        "id": "7VdFHw6140pg",
        "outputId": "7ab44c17-7f75-4b33-fe23-46759344a4a8"
      },
      "source": [
        "# true_k, derived from elbow method and confirmed from pluralsight's website\n",
        "true_k1 = 16\n",
        "# Running model with 15 different centroid initializations & maximum iterations are 500\n",
        "model1 = KMeans(n_clusters=true_k1, init='k-means++', max_iter=500, n_init=15)\n",
        "model1.fit(matrix1)"
      ],
      "execution_count": null,
      "outputs": [
        {
          "output_type": "execute_result",
          "data": {
            "text/plain": [
              "KMeans(max_iter=500, n_clusters=16, n_init=15)"
            ]
          },
          "metadata": {},
          "execution_count": 7
        }
      ]
    },
    {
      "cell_type": "markdown",
      "source": [
        "## Cluster for single columns"
      ],
      "metadata": {
        "id": "jPlsDhjZP595"
      }
    },
    {
      "cell_type": "code",
      "source": [
        "# Pre-processing step: remove words like we'll, you'll, they'll etc.\n",
        "data['Professional Bio'] = data['Professional Bio'].replace({\"'ll\": \" \"}, regex=True)\n",
        "# Another Pre-preprocessing step: Removal of '-'\n",
        "data['Professional Bio'] = data['Professional Bio'].replace({\"-\": \" \"}, regex=True)\n",
        "# Remove all characters except numbers & alphabets\n",
        "data['Professional Bio'] = data['Professional Bio'].replace({\"[^A-Za-z0-9 ]+\": \"\"}, regex=True)\n",
        "# Another pre-processing\n",
        "data['Professional Bio'] = data['Professional Bio'].fillna('')\n",
        "\n",
        "# Pre-processing step: remove words like we'll, you'll, they'll etc.\n",
        "data['Hobbies, Interests, etc'] = data['Hobbies, Interests, etc'].replace({\"'ll\": \" \"}, regex=True)\n",
        "# Another Pre-preprocessing step: Removal of '-'\n",
        "data['Hobbies, Interests, etc'] = data['Hobbies, Interests, etc'].replace({\"-\": \" \"}, regex=True)\n",
        "# Remove all characters except numbers & alphabets\n",
        "data['Hobbies, Interests, etc'] = data['Hobbies, Interests, etc'].replace({\"[^A-Za-z0-9 ]+\": \"\"}, regex=True)\n",
        "# Another pre-processing\n",
        "data['Hobbies, Interests, etc'] = data['Hobbies, Interests, etc'].fillna('')"
      ],
      "metadata": {
        "id": "upOQHSuRP5lD"
      },
      "execution_count": null,
      "outputs": []
    },
    {
      "cell_type": "code",
      "source": [
        "tfidf2 = TfidfVectorizer(stop_words='english')\n",
        "#Construct the required TF-IDF matrix by applying the fit_transform method on the overview feature\n",
        "matrix2 = tfidf2.fit_transform(data['Professional Bio'])\n",
        "#Output the shape of tfidf_matrix\n",
        "matrix2.shape\n",
        "#Output\n",
        "(45466, 75827)"
      ],
      "metadata": {
        "colab": {
          "base_uri": "https://localhost:8080/"
        },
        "id": "RfvCQvbMQWji",
        "outputId": "f974c15d-7966-4df2-f6e4-2b9ea539eb23"
      },
      "execution_count": null,
      "outputs": [
        {
          "output_type": "execute_result",
          "data": {
            "text/plain": [
              "(45466, 75827)"
            ]
          },
          "metadata": {},
          "execution_count": 9
        }
      ]
    },
    {
      "cell_type": "code",
      "source": [
        "tfidf3 = TfidfVectorizer(stop_words='english')\n",
        "#Construct the required TF-IDF matrix by applying the fit_transform method on the overview feature\n",
        "matrix3 = tfidf3.fit_transform(data['Hobbies, Interests, etc'])\n",
        "#Output the shape of tfidf_matrix\n",
        "matrix3.shape\n",
        "#Output\n",
        "(45466, 75827)"
      ],
      "metadata": {
        "colab": {
          "base_uri": "https://localhost:8080/"
        },
        "id": "DO0-bqtQQedf",
        "outputId": "556e21b2-3c7e-4c56-c80b-5b18747619f1"
      },
      "execution_count": null,
      "outputs": [
        {
          "output_type": "execute_result",
          "data": {
            "text/plain": [
              "(45466, 75827)"
            ]
          },
          "metadata": {},
          "execution_count": 10
        }
      ]
    },
    {
      "cell_type": "code",
      "source": [
        "sse = {}\n",
        "# Looping over multiple values of k from 1 to 30\n",
        "for k in range(1, 30):\n",
        "    kmeans = KMeans(n_clusters=k, init='k-means++', max_iter=100).fit(matrix2)\n",
        "    data[\"clusters2\"] = kmeans.labels_\n",
        "    sse[k] = kmeans.inertia_\n",
        "# Plotting the curve with 'k'-value vs SSE\n",
        "plt.plot(list(sse.keys()), list(sse.values()))\n",
        "plt.xlabel(\"Number of cluster\")\n",
        "plt.ylabel(\"SSE\")"
      ],
      "metadata": {
        "colab": {
          "base_uri": "https://localhost:8080/",
          "height": 296
        },
        "id": "e4oT_v6wQtrt",
        "outputId": "9b30dc3a-00b8-4362-e50a-52e562cfb301"
      },
      "execution_count": null,
      "outputs": [
        {
          "output_type": "execute_result",
          "data": {
            "text/plain": [
              "Text(0, 0.5, 'SSE')"
            ]
          },
          "metadata": {},
          "execution_count": 11
        },
        {
          "output_type": "display_data",
          "data": {
            "image/png": "[encoded data removed]",
            "text/plain": [
              "<Figure size 432x288 with 1 Axes>"
            ]
          },
          "metadata": {
            "needs_background": "light"
          }
        }
      ]
    },
    {
      "cell_type": "code",
      "source": [
        "sse = {}\n",
        "# Looping over multiple values of k from 1 to 30\n",
        "for k in range(1, 30):\n",
        "    kmeans = KMeans(n_clusters=k, init='k-means++', max_iter=100).fit(matrix3)\n",
        "    data[\"clusters3\"] = kmeans.labels_\n",
        "    sse[k] = kmeans.inertia_\n",
        "# Plotting the curve with 'k'-value vs SSE\n",
        "plt.plot(list(sse.keys()), list(sse.values()))\n",
        "plt.xlabel(\"Number of cluster\")\n",
        "plt.ylabel(\"SSE\")"
      ],
      "metadata": {
        "colab": {
          "base_uri": "https://localhost:8080/",
          "height": 296
        },
        "id": "wPupkbuOQw3C",
        "outputId": "d8f310b3-1c46-4ffa-cc08-7640ea4cddce"
      },
      "execution_count": null,
      "outputs": [
        {
          "output_type": "execute_result",
          "data": {
            "text/plain": [
              "Text(0, 0.5, 'SSE')"
            ]
          },
          "metadata": {},
          "execution_count": 12
        },
        {
          "output_type": "display_data",
          "data": {
            "image/png": "[encoded data removed]",
            "text/plain": [
              "<Figure size 432x288 with 1 Axes>"
            ]
          },
          "metadata": {
            "needs_background": "light"
          }
        }
      ]
    },
    {
      "cell_type": "code",
      "source": [
        "# true_k, derived from elbow method and confirmed from pluralsight's website\n",
        "true_k2 = 3\n",
        "# Running model with 15 different centroid initializations & maximum iterations are 500\n",
        "model2 = KMeans(n_clusters=true_k2, init='k-means++', max_iter=500, n_init=15)\n",
        "model2.fit(matrix2)"
      ],
      "metadata": {
        "colab": {
          "base_uri": "https://localhost:8080/"
        },
        "id": "MmT4ExFMRTb1",
        "outputId": "e464ef96-a773-4fad-effb-e8ac59eb828a"
      },
      "execution_count": null,
      "outputs": [
        {
          "output_type": "execute_result",
          "data": {
            "text/plain": [
              "KMeans(max_iter=500, n_clusters=3, n_init=15)"
            ]
          },
          "metadata": {},
          "execution_count": 13
        }
      ]
    },
    {
      "cell_type": "code",
      "source": [
        "# true_k, derived from elbow method and confirmed from pluralsight's website\n",
        "true_k3 = 15\n",
        "# Running model with 15 different centroid initializations & maximum iterations are 500\n",
        "model3 = KMeans(n_clusters=true_k3, init='k-means++', max_iter=500, n_init=15)\n",
        "model3.fit(matrix3)"
      ],
      "metadata": {
        "colab": {
          "base_uri": "https://localhost:8080/"
        },
        "id": "WX4La3f3RUQA",
        "outputId": "4ee932b6-1916-4b00-cea4-f22e336b67d3"
      },
      "execution_count": null,
      "outputs": [
        {
          "output_type": "execute_result",
          "data": {
            "text/plain": [
              "KMeans(max_iter=500, n_clusters=15, n_init=15)"
            ]
          },
          "metadata": {},
          "execution_count": 14
        }
      ]
    },
    {
      "cell_type": "markdown",
      "source": [
        "## Predict results"
      ],
      "metadata": {
        "id": "hOEKPV3_RZJd"
      }
    },
    {
      "cell_type": "code",
      "metadata": {
        "id": "XqgdEl-yvAhA"
      },
      "source": [
        "def cluster_predict(str_input, model, tfidf):\n",
        "    Y = tfidf.transform(list(str_input))\n",
        "    prediction = model.predict(Y)\n",
        "    return prediction"
      ],
      "execution_count": null,
      "outputs": []
    },
    {
      "cell_type": "code",
      "metadata": {
        "id": "StXGKjdBvDEG"
      },
      "source": [
        "# Create new column for storing predicted categories from our trained model.\n",
        "data['ClusterPrediction1'] = \"\"\n",
        "# Cluster category for each live course\n",
        "data['ClusterPrediction1']=data.apply(lambda x: cluster_predict(data['concat'], model1, tfidf1), axis=0)"
      ],
      "execution_count": null,
      "outputs": []
    },
    {
      "cell_type": "code",
      "metadata": {
        "id": "Qph3Lp505Bhk"
      },
      "source": [
        "def recommend_util(str_input, model, tfidf):\n",
        "    \n",
        "    # match on the basis course-id and form whole 'Description' entry out of it.\n",
        "    temp_df = data.loc[data['Cornell Tech Email (Required)'] == str_input]\n",
        "    student_name = temp_df[['Preferred First Name (Required)', 'Last Name / Family Name (Required)']].agg(' '.join, axis=1)\n",
        "    str_input = temp_df['concat']\n",
        "    \n",
        "    # Predict category of input string category\n",
        "    prediction_inp = cluster_predict(str_input, model, tfidf)\n",
        "    prediction_inp = int(prediction_inp)\n",
        "    # Based on the above prediction 15 random students are recommended from the whole data-frame\n",
        "    # Recommendation Logic is kept super-simple for current implementation.\n",
        "    temp_df = data.loc[data['ClusterPrediction1'] == prediction_inp]\n",
        "    temp_df = temp_df.sample(16)\n",
        "\n",
        "    temp_df['full name'] = temp_df[['Preferred First Name (Required)', 'Last Name / Family Name (Required)']].agg(' '.join, axis=1)\n",
        "    \n",
        "    return list(temp_df['full name']), student_name"
      ],
      "execution_count": null,
      "outputs": []
    },
    {
      "cell_type": "markdown",
      "source": [
        "**Model 1**"
      ],
      "metadata": {
        "id": "ilwYsqiilunX"
      }
    },
    {
      "cell_type": "code",
      "metadata": {
        "colab": {
          "base_uri": "https://localhost:8080/"
        },
        "id": "xvwIFCRGv6rA",
        "outputId": "521644b8-2f60-4fb6-8051-abc67506dde5"
      },
      "source": [
        "res, n = recommend_util('myh26@cornell.edu', model1, tfidf1)\n",
        "lookup_name = \"\"\n",
        "result = set()\n",
        "for x in n:\n",
        "  lookup_name += x\n",
        "for name in res:\n",
        "  if name != lookup_name:\n",
        "    result.add(name)\n",
        "for name in result:\n",
        "  print(name)"
      ],
      "execution_count": null,
      "outputs": [
        {
          "output_type": "stream",
          "name": "stdout",
          "text": [
            "Steve Klementowski\n",
            "Swathi  Ramesh\n",
            "Omar Alherech\n",
            "Roberto Bruni\n",
            "Jenny Juarez\n",
            "Rohan Divate\n",
            "Ridhima Sakhuja\n",
            "Alex Kluver\n",
            "Bonnie Liu\n",
            "Jay Chand\n",
            "Yehao Zhang\n",
            "Ophir Ehrlich\n",
            "Grant Lindsley\n",
            "Brett O'Connor\n",
            "Brandt Beckerman\n",
            "Dorothee Grant\n"
          ]
        }
      ]
    },
    {
      "cell_type": "code",
      "source": [
        "res, n = recommend_util('xd42@cornell.edu', model1, tfidf1)\n",
        "lookup_name = \"\"\n",
        "result = set()\n",
        "for x in n:\n",
        "  lookup_name += x\n",
        "for name in res:\n",
        "  if name != lookup_name:\n",
        "    result.add(name)\n",
        "for name in result:\n",
        "  print(name)"
      ],
      "metadata": {
        "colab": {
          "base_uri": "https://localhost:8080/"
        },
        "id": "dN7iM6zxd204",
        "outputId": "f194c2f1-d0f9-4989-d7a6-52caf58d3f7c"
      },
      "execution_count": null,
      "outputs": [
        {
          "output_type": "stream",
          "name": "stdout",
          "text": [
            "Jagan Subramanian\n",
            "Tianyun Zou\n",
            "Aliya Gangji\n",
            "Victoria Yang\n",
            "Graham Estabrook\n",
            "Andrew Scibelli\n",
            "Joy Zhao\n",
            "Janet Liao\n",
            "Thomas Carroll\n",
            "Kristen Van Beek\n",
            "Micah Friedland\n",
            "Aish Ravindran\n",
            "Bagus Ruswandi\n",
            "Dhruv Chhapekar\n",
            "Christine Shen\n"
          ]
        }
      ]
    },
    {
      "cell_type": "code",
      "source": [
        "res, n = recommend_util('eh543@cornell.edu', model1, tfidf1)\n",
        "lookup_name = \"\"\n",
        "result = set()\n",
        "for x in n:\n",
        "  lookup_name += x\n",
        "for name in res:\n",
        "  if name != lookup_name:\n",
        "    result.add(name)\n",
        "for name in result:\n",
        "  print(name)"
      ],
      "metadata": {
        "colab": {
          "base_uri": "https://localhost:8080/"
        },
        "id": "3D5JW7E6fYYv",
        "outputId": "cf649fd2-c087-43b8-865b-dc88b1d0712f"
      },
      "execution_count": null,
      "outputs": [
        {
          "output_type": "stream",
          "name": "stdout",
          "text": [
            "Hong Xuan Kow\n",
            "Marie Peeters\n",
            "Ashray Dimri\n",
            "Brandon Newman\n",
            "Jarrett Coleman\n",
            "Adam Chew\n",
            "Ethan Otto\n",
            "Hoang Dang\n",
            "Anh Ha\n",
            "Sal Galarza\n",
            "Richa Vishwakarma\n",
            "Momina Nofal\n",
            "Harshitha Arul Murugan\n",
            "Deepen Kothari\n",
            "Zack Hurwitz\n",
            "Gonzalo Ruiz\n"
          ]
        }
      ]
    },
    {
      "cell_type": "code",
      "source": [
        "res, n = recommend_util('Hp449@cornell.edu', model1, tfidf1)\n",
        "lookup_name = \"\"\n",
        "result = set()\n",
        "for x in n:\n",
        "  lookup_name += x\n",
        "for name in res:\n",
        "  if name != lookup_name:\n",
        "    result.add(name)\n",
        "for name in result:\n",
        "  print(name)"
      ],
      "metadata": {
        "colab": {
          "base_uri": "https://localhost:8080/"
        },
        "id": "1gfTm9Nlf6h1",
        "outputId": "19d752fb-4a83-4305-8fda-c8c2cac7d732"
      },
      "execution_count": null,
      "outputs": [
        {
          "output_type": "stream",
          "name": "stdout",
          "text": [
            "Khaled Abughoush\n",
            "Giovanni Trabucco\n",
            "Itay Fried\n",
            "Joumana Atara\n",
            "Amy Wang\n",
            "Jonathan Yu\n",
            "Sara Wang\n",
            "Daniel Levenson\n",
            "Ogulcan Bayol\n",
            "Grace Le\n",
            "Isaac Lichter\n",
            "Rohan Reddy\n",
            "Youan Lu\n",
            "Richard Pan\n",
            "Zal Joshi\n",
            "Pamela Capellan\n"
          ]
        }
      ]
    },
    {
      "cell_type": "markdown",
      "source": [
        "**Model 2**"
      ],
      "metadata": {
        "id": "kNZn8xE9hvRp"
      }
    },
    {
      "cell_type": "code",
      "source": [
        "res, n = recommend_util('myh26@cornell.edu', model2, tfidf2)\n",
        "lookup_name = \"\"\n",
        "result = set()\n",
        "for x in n:\n",
        "  lookup_name += x\n",
        "for name in res:\n",
        "  if name != lookup_name:\n",
        "    result.add(name)\n",
        "for name in result:\n",
        "  print(name)"
      ],
      "metadata": {
        "colab": {
          "base_uri": "https://localhost:8080/"
        },
        "id": "Qa35cBJ5htqv",
        "outputId": "95142313-09e3-4a5b-ce43-8e7e45629f68"
      },
      "execution_count": null,
      "outputs": [
        {
          "output_type": "stream",
          "name": "stdout",
          "text": [
            "Jackie Peng\n",
            "Madhu Gengatheran\n",
            "Escher Campanella\n",
            "Jess Chen\n",
            "Abhiraj Gupta\n",
            "Jinxu Liu\n",
            "Toby Leung\n",
            "Maya Lal\n",
            "So Young Park\n",
            "Angela Chen\n",
            "Aria Zhou\n",
            "Giordana Pulpo\n",
            "Aarushi Banerjee\n",
            "Angel Huang\n",
            "Yiran Wang\n",
            "Yanjun Zhou\n"
          ]
        }
      ]
    },
    {
      "cell_type": "code",
      "source": [
        "res, n = recommend_util('xd42@cornell.edu', model2, tfidf2)\n",
        "lookup_name = \"\"\n",
        "result = set()\n",
        "for x in n:\n",
        "  lookup_name += x\n",
        "for name in res:\n",
        "  if name != lookup_name:\n",
        "    result.add(name)\n",
        "for name in result:\n",
        "  print(name)"
      ],
      "metadata": {
        "colab": {
          "base_uri": "https://localhost:8080/"
        },
        "id": "zveVZxhll4tT",
        "outputId": "093b4122-48eb-4693-d4e3-8a6bf0194b0b"
      },
      "execution_count": null,
      "outputs": [
        {
          "output_type": "stream",
          "name": "stdout",
          "text": [
            "Vlad Matsiiako\n",
            "Marc Agosin\n",
            "Mitchell Taylor\n",
            "Yixuan Li\n",
            "Soul Choi\n",
            "Hisao Kitamura\n",
            "Abraham Hill\n",
            "Shaurya Srivastava\n",
            "Sylvia Chen\n",
            "Avinash Bhavnani\n",
            "Hoyoung Jun\n",
            "Dennis Liu\n",
            "Peter Gribizis\n",
            "Shubhankar Gaikwad\n",
            "Eric Zhewen Li\n",
            "Yixuan Qin\n"
          ]
        }
      ]
    },
    {
      "cell_type": "code",
      "source": [
        "res, n = recommend_util('eh543@cornell.edu', model2, tfidf2)\n",
        "lookup_name = \"\"\n",
        "result = set()\n",
        "for x in n:\n",
        "  lookup_name += x\n",
        "for name in res:\n",
        "  if name != lookup_name:\n",
        "    result.add(name)\n",
        "for name in result:\n",
        "  print(name)"
      ],
      "metadata": {
        "colab": {
          "base_uri": "https://localhost:8080/"
        },
        "id": "UfxRjSTSl_v3",
        "outputId": "5bc5e8b6-7e31-4494-886d-2c5e57204ce8"
      },
      "execution_count": null,
      "outputs": [
        {
          "output_type": "stream",
          "name": "stdout",
          "text": [
            "Vlad Matsiiako\n",
            "Peter Gribizis\n",
            "Yixuan Li\n",
            "Mitchell Taylor\n",
            "Hisao Kitamura\n",
            "Shaurya Srivastava\n",
            "Sylvia Chen\n",
            "Chandrasekhar Susarla\n",
            "Avinash Bhavnani\n",
            "Hoyoung Jun\n",
            "Dennis Liu\n",
            "Marc Agosin\n",
            "Jonathan Porotsky\n",
            "Ben Stamm\n",
            "Eric Zhewen Li\n",
            "Yixuan Qin\n"
          ]
        }
      ]
    },
    {
      "cell_type": "code",
      "source": [
        "res, n = recommend_util('Hp449@cornell.edu', model2, tfidf2)\n",
        "lookup_name = \"\"\n",
        "result = set()\n",
        "for x in n:\n",
        "  lookup_name += x\n",
        "for name in res:\n",
        "  if name != lookup_name:\n",
        "    result.add(name)\n",
        "for name in result:\n",
        "  print(name)"
      ],
      "metadata": {
        "colab": {
          "base_uri": "https://localhost:8080/"
        },
        "id": "7_zZaIUmmEYf",
        "outputId": "0a94eff3-87a9-4a57-8ffd-f5e8c320a6c8"
      },
      "execution_count": null,
      "outputs": [
        {
          "output_type": "stream",
          "name": "stdout",
          "text": [
            "Jackie Peng\n",
            "Abel Aguilar\n",
            "Martin Sun\n",
            "Madhu Gengatheran\n",
            "Tanvi Mishra\n",
            "Jess Chen\n",
            "Cassie Lin\n",
            "Krishangi  Agarwal\n",
            "Claire  Boguslawski\n",
            "So Young Park\n",
            "Jennie Hong\n",
            "Giordana Pulpo\n",
            "Aarushi Banerjee\n",
            "Tingyue Wang\n",
            "Angel Huang\n",
            "Tuan (Tony) Dang\n"
          ]
        }
      ]
    },
    {
      "cell_type": "markdown",
      "source": [
        "**Model 3**"
      ],
      "metadata": {
        "id": "3eC8bvtcnzgZ"
      }
    },
    {
      "cell_type": "code",
      "source": [
        "res, n = recommend_util('myh26@cornell.edu', model3, tfidf3)\n",
        "lookup_name = \"\"\n",
        "result = set()\n",
        "for x in n:\n",
        "  lookup_name += x\n",
        "for name in res:\n",
        "  if name != lookup_name:\n",
        "    result.add(name)\n",
        "for name in result:\n",
        "  print(name)"
      ],
      "metadata": {
        "colab": {
          "base_uri": "https://localhost:8080/"
        },
        "id": "GDxww7run1r4",
        "outputId": "1fd4eb7d-5c90-4268-e478-2c465d80b082"
      },
      "execution_count": null,
      "outputs": [
        {
          "output_type": "stream",
          "name": "stdout",
          "text": [
            "olive xie\n",
            "Ziyu Song\n",
            "David Li\n",
            "Yang Song\n",
            "Lawrence Yu\n",
            "Zoe Tan\n",
            "Nomin Sukhbaatar\n",
            "Lars Kouwenhoven\n",
            "Yuntian Ye\n",
            "Andrew Yan\n",
            "Negar Akbarzadeh\n",
            "Candice He\n",
            "Jacob Nadelman\n",
            "Calvin Ying\n",
            "Jeanette Xu\n",
            "Ravi Kumar\n"
          ]
        }
      ]
    },
    {
      "cell_type": "code",
      "source": [
        "res, n = recommend_util('xd42@cornell.edu', model3, tfidf3)\n",
        "lookup_name = \"\"\n",
        "result = set()\n",
        "for x in n:\n",
        "  lookup_name += x\n",
        "for name in res:\n",
        "  if name != lookup_name:\n",
        "    result.add(name)\n",
        "for name in result:\n",
        "  print(name)"
      ],
      "metadata": {
        "colab": {
          "base_uri": "https://localhost:8080/"
        },
        "id": "2e9iA25joHsH",
        "outputId": "04573f06-1de4-41ec-90d2-801f4c8a9874"
      },
      "execution_count": null,
      "outputs": [
        {
          "output_type": "stream",
          "name": "stdout",
          "text": [
            "Jay Jain\n",
            "Songyu Du\n",
            "Casey Pan\n",
            "Yi Liu\n",
            "Tenghui Zhang\n",
            "Eric Zhang\n",
            "Fanruo Gu\n",
            "Kristjan Tomasson\n",
            "Marta Jansone\n",
            "Jiejun Tian\n",
            "Rashmi Sinha\n",
            "Sizhi Tan\n",
            "Xingyu Tao\n",
            "Panda Xu\n",
            "Wei Kang Tan\n",
            "Scarlett Zhang\n"
          ]
        }
      ]
    },
    {
      "cell_type": "code",
      "source": [
        "res, n = recommend_util('eh543@cornell.edu', model3, tfidf3)\n",
        "lookup_name = \"\"\n",
        "result = set()\n",
        "for x in n:\n",
        "  lookup_name += x\n",
        "for name in res:\n",
        "  if name != lookup_name:\n",
        "    result.add(name)\n",
        "for name in result:\n",
        "  print(name)"
      ],
      "metadata": {
        "colab": {
          "base_uri": "https://localhost:8080/"
        },
        "id": "oFBnjweOoNez",
        "outputId": "91800e08-775e-4009-f3ed-112b27afeb44"
      },
      "execution_count": null,
      "outputs": [
        {
          "output_type": "stream",
          "name": "stdout",
          "text": [
            "Jonathan Porotsky\n",
            "Peter Gribizis\n",
            "Mitchell Taylor\n",
            "Yixuan Li\n",
            "Hisao Kitamura\n",
            "Yizhuo Xie\n",
            "Sylvia Chen\n",
            "Chandrasekhar Susarla\n",
            "Jeremy Hazan\n",
            "Hoyoung Jun\n",
            "Dennis Liu\n",
            "Ramya Kesharwani\n",
            "Shubhankar Gaikwad\n",
            "Ben Stamm\n",
            "Eric Zhewen Li\n",
            "Marc Agosin\n"
          ]
        }
      ]
    },
    {
      "cell_type": "code",
      "source": [
        "res, n = recommend_util('Hp449@cornell.edu', model3, tfidf3)\n",
        "lookup_name = \"\"\n",
        "result = set()\n",
        "for x in n:\n",
        "  lookup_name += x\n",
        "for name in res:\n",
        "  if name != lookup_name:\n",
        "    result.add(name)\n",
        "for name in result:\n",
        "  print(name)"
      ],
      "metadata": {
        "colab": {
          "base_uri": "https://localhost:8080/"
        },
        "id": "niCCajzpoXOl",
        "outputId": "bc8bf9a3-86ca-47b3-b17c-70e341b8d899"
      },
      "execution_count": null,
      "outputs": [
        {
          "output_type": "stream",
          "name": "stdout",
          "text": [
            "Khaled Abughoush\n",
            "Giovanni Trabucco\n",
            "Ritika  Poddar\n",
            "Itay Fried\n",
            "Jonathan Yu\n",
            "Amy Wang\n",
            "Sara Wang\n",
            "Mohit Mittal\n",
            "Anna Pfohl\n",
            "Shaumik Ashraf\n",
            "Tim Bernard\n",
            "Larry Xy\n",
            "Youan Lu\n",
            "Richard Pan\n",
            "Celine Zhang\n",
            "Pamela Capellan\n"
          ]
        }
      ]
    }
  ]
}